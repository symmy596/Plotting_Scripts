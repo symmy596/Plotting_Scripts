{
 "cells": [
  {
   "cell_type": "code",
   "execution_count": null,
   "metadata": {},
   "outputs": [],
   "source": [
    "import matplotlib.pyplot as plt\n",
    "from matplotlib.ticker import FormatStrFormatter\n",
    "import numpy as np\n",
    "from pylab import *\n",
    "\n",
    "\n",
    "fig, ax = plt.subplots()\n",
    "fontsize = 10\n",
    "rc('axes', linewidth=2)\n",
    "\n",
    "y = np.array([2.613240418, 2.116402116, 2.402957486, 1.849217639, 2.444987775, 1.866251944]) \n",
    "x = np.array([1, 2, 3, 4, 5, 6])\n",
    "index = np.array(['$\\Sigma 3(111)$', '$\\Sigma 11(311)$', '$\\Sigma 5(210)$', '$\\Sigma 5(310)$', '$\\Sigma 9(221)$', '$\\Sigma 19(331)$'])\n",
    "ax.set_xticks(x)\n",
    "ax.set_xticklabels(index)\n",
    "\n",
    "ax.axvspan(0.6, 2.4, alpha=0.4, color='blue')\n",
    "ax.axvspan(2.6, 4.4, alpha=0.4, color='red')\n",
    "ax.axvspan(4.6, 6.4, alpha=0.4, color='green')\n",
    "\n",
    "ax.text(0.73, 2.8, \"n11 Series\", color=\"black\", fontsize=15)\n",
    "ax.text(2.72, 2.8, \"n10 Series\", color=\"black\", fontsize=15)\n",
    "ax.text(4.72, 2.8, \"nn1 Series\", color=\"black\", fontsize=15)\n",
    "\n",
    "ax.set_ylim(0.0 ,3.2)\n",
    "ax.set_ylabel('GB oxygen decrease %', fontsize=12, fontweight='bold')\n",
    "ax.set_xlabel('Grain Boundary', fontsize=12, fontweight='bold')\n",
    "\n",
    "ax.bar(x, y, color=('darkblue', 'darkblue', 'red', 'red', 'darkgreen', 'darkgreen'))\n",
    "ax.tick_params(labelsize=11)\n",
    "\n",
    "plt.show()\n"
   ]
  },
  {
   "cell_type": "code",
   "execution_count": null,
   "metadata": {
    "collapsed": true
   },
   "outputs": [],
   "source": []
  }
 ],
 "metadata": {
  "kernelspec": {
   "display_name": "Python 3",
   "language": "python",
   "name": "python3"
  },
  "language_info": {
   "codemirror_mode": {
    "name": "ipython",
    "version": 3
   },
   "file_extension": ".py",
   "mimetype": "text/x-python",
   "name": "python",
   "nbconvert_exporter": "python",
   "pygments_lexer": "ipython3",
   "version": "3.6.1"
  }
 },
 "nbformat": 4,
 "nbformat_minor": 2
}
